{
 "cells": [
  {
   "cell_type": "code",
   "execution_count": null,
   "metadata": {},
   "outputs": [],
   "source": [
    "import pandas as pd\n",
    "import seaborn as sns\n",
    "import matplotlib.pyplot as plt\n",
    "import numpy as np\n",
    "\n",
    "from my_src import my_graphs\n",
    "\n",
    "# When saving svg plots, we use regular text for plot text. This stops the default\n",
    "# behavior of outputting curves for each letter of text and saves a lot of memory\n",
    "# per graph.\n",
    "\n",
    "plt.rcParams['svg.fonttype'] = 'none'\n",
    "violin_plot_grid_size = 20\n",
    "violin_plot_fig_size = (12, 10)"
   ]
  },
  {
   "cell_type": "code",
   "execution_count": null,
   "metadata": {},
   "outputs": [],
   "source": [
    "data = pd.read_csv('data/uber-raw-data-aug14.csv')"
   ]
  },
  {
   "cell_type": "code",
   "execution_count": null,
   "metadata": {},
   "outputs": [],
   "source": [
    "print(data.info())\n",
    "data.head()"
   ]
  },
  {
   "cell_type": "code",
   "execution_count": null,
   "metadata": {},
   "outputs": [],
   "source": [
    "data['Date/Time'] = pd.to_datetime(data['Date/Time'])\n",
    "print(data.info())\n",
    "data.head()"
   ]
  },
  {
   "cell_type": "code",
   "execution_count": null,
   "metadata": {},
   "outputs": [],
   "source": [
    "# Get hourly counts data.\n",
    "pickup_hours = data['Date/Time'].apply(lambda x : x.hour)\n",
    "hour_counts = data['Date/Time'].groupby(pickup_hours).count().sort_index()"
   ]
  },
  {
   "cell_type": "code",
   "execution_count": null,
   "metadata": {},
   "outputs": [],
   "source": [
    "plt.bar(hour_counts.index, hour_counts)\n",
    "plt.title('Hourly Pickup Counts')\n",
    "plt.xlabel('Hour (0 is Midnight)')\n",
    "plt.ylabel('Count')\n",
    "plt.tight_layout()\n",
    "plt.savefig('graphs/all_hourly_hist.svg')\n",
    "plt.close()"
   ]
  },
  {
   "cell_type": "markdown",
   "metadata": {},
   "source": [
    "![All Hourly Pickups Histogram](files/graphs/all_hourly_hist.svg)"
   ]
  },
  {
   "cell_type": "code",
   "execution_count": null,
   "metadata": {},
   "outputs": [],
   "source": [
    "reduced_date = data['Date/Time'].apply(lambda x : (x.month, x.day, x.hour))\n",
    "reduced_date = pd.DataFrame(reduced_date.tolist(), columns = ['month', 'day', 'hour'])\n",
    "reduced_date.head()"
   ]
  },
  {
   "cell_type": "code",
   "execution_count": null,
   "metadata": {},
   "outputs": [],
   "source": [
    "# Now get hourly counts by day and hour.\n",
    "\n",
    "hour_counts = (reduced_date.groupby(['day', 'hour'])\n",
    "                .count()\n",
    "                .rename(columns =  {'month' : 'count'}))\n",
    "hour_counts.head()"
   ]
  },
  {
   "cell_type": "code",
   "execution_count": null,
   "metadata": {},
   "outputs": [],
   "source": [
    "# Get a graph of the hourly count distribution for all days and hours.\n",
    "\n",
    "my_graphs.graph_distribution_by_hour(hour_counts, hour_blocks = [np.arange(24)], fig_size = (15, 6), grid_size = 60)\n",
    "plt.title('All Hourly Pickup Count Distributions')\n",
    "plt.tight_layout()\n",
    "plt.savefig('graphs/all_hourly_pickups.svg')\n",
    "plt.close()\n",
    "print('Graph saved.')"
   ]
  },
  {
   "cell_type": "code",
   "execution_count": null,
   "metadata": {},
   "outputs": [],
   "source": [
    "fig, axes = my_graphs.graph_violins(hour_counts, fig_size = violin_plot_fig_size, grid_size = violin_plot_grid_size)\n",
    "for ax, title in zip(axes, ['Mornings', 'Close to Noon', 'Afternoon to Night']):\n",
    "    ax.set_title('Hourly Pickup Distributions for ' + title)\n",
    "plt.tight_layout()\n",
    "plt.savefig('graphs/all_hourly_pickups.svg')\n",
    "plt.close()"
   ]
  },
  {
   "cell_type": "markdown",
   "metadata": {},
   "source": [
    "![Violin_plot](files/graphs/all_hourly_pickups.svg)"
   ]
  },
  {
   "cell_type": "markdown",
   "metadata": {},
   "source": [
    "Let's look at including whether the day is on the weeked or not."
   ]
  },
  {
   "cell_type": "code",
   "execution_count": null,
   "metadata": {},
   "outputs": [],
   "source": [
    "initial_day = 4\n",
    "day_of_week = hour_counts.index.to_series().apply(lambda x : (x[0] - 1 + initial_day) % 7)\n",
    "day_of_week.value_counts().sort_index()"
   ]
  },
  {
   "cell_type": "code",
   "execution_count": null,
   "metadata": {},
   "outputs": [],
   "source": [
    "is_weekend = day_of_week > 4\n",
    "weekend_counts = hour_counts.loc[is_weekend, ['count']]\n",
    "fig, axes = my_graphs.graph_violins(weekend_counts, fig_size = violin_plot_fig_size, grid_size = violin_plot_grid_size)\n",
    "for ax, title in zip(axes, ['Mornings', 'Close to Noon', 'Afternoon to Night']):\n",
    "    ax.set_title('Weekend Hourly Pickup Distributions for ' + title)\n",
    "plt.tight_layout()\n",
    "plt.savefig('graphs/weekend_pickups.svg')\n",
    "plt.close()"
   ]
  },
  {
   "cell_type": "markdown",
   "metadata": {},
   "source": [
    "![Weekend Hourly Pickups](files/graphs/weekend_pickups.svg)"
   ]
  },
  {
   "cell_type": "code",
   "execution_count": null,
   "metadata": {},
   "outputs": [],
   "source": [
    "weekday_counts = hour_counts.loc[~is_weekend, ['count']]\n",
    "fig, axes = my_graphs.graph_violins(weekday_counts, fig_size = violin_plot_fig_size, grid_size = violin_plot_grid_size)\n",
    "for ax, title in zip(axes, ['Mornings', 'Close to Noon', 'Afternoon to Night']):\n",
    "    ax.set_title('Weekday Hourly Pickup Distributions for ' + title)\n",
    "plt.tight_layout()\n",
    "plt.savefig('graphs/weekday_pickups.svg')\n",
    "plt.close()"
   ]
  },
  {
   "cell_type": "markdown",
   "metadata": {},
   "source": [
    "![Weekday Pickups](files/graphs/weekday_pickups.svg)"
   ]
  },
  {
   "cell_type": "code",
   "execution_count": null,
   "metadata": {},
   "outputs": [],
   "source": [
    "is_day = (day_of_week >= 0) & (day_of_week < 4)\n",
    "day_counts = hour_counts.loc[is_day, ['count']]\n",
    "\n",
    "fig, axes = my_graphs.graph_violins(day_counts, fig_size = violin_plot_fig_size, grid_size = violin_plot_grid_size)\n",
    "for ax, title in zip(axes, ['Mornings', 'Close to Noon', 'Afternoon to Night']):\n",
    "    ax.set_title('Mon-Th Hourly Pickup Distributions for ' + title)\n",
    "plt.tight_layout()\n",
    "plt.savefig('graphs/mon_th_pickups.svg')\n",
    "plt.close()"
   ]
  },
  {
   "cell_type": "markdown",
   "metadata": {},
   "source": [
    "![Monday to Thursday Pickups](files/graphs/mon_th_pickups.svg)"
   ]
  }
 ],
 "metadata": {
  "kernelspec": {
   "display_name": "Python 3",
   "language": "python",
   "name": "python3"
  },
  "language_info": {
   "codemirror_mode": {
    "name": "ipython",
    "version": 3
   },
   "file_extension": ".py",
   "mimetype": "text/x-python",
   "name": "python",
   "nbconvert_exporter": "python",
   "pygments_lexer": "ipython3",
   "version": "3.7.0"
  }
 },
 "nbformat": 4,
 "nbformat_minor": 2
}
